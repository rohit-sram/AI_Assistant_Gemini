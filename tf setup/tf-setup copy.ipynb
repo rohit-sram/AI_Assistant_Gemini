{
 "cells": [
  {
   "cell_type": "code",
   "execution_count": null,
   "id": "e9829333",
   "metadata": {},
   "outputs": [],
   "source": [
    "\"\"\"\n",
    "PREVIOUS INSTALL \n",
    "\"\"\"\n",
    "\n",
    "# import sys\n",
    "\n",
    "# import tensorflow.keras\n",
    "# import pandas as pd\n",
    "# import sklearn as sk\n",
    "# import tensorflow as tf\n",
    "\n",
    "# print(f\"Tensor Flow Version: {tf.__version__}\")\n",
    "# print(f\"Keras Version: {tensorflow.keras.__version__}\")\n",
    "# print()\n",
    "# print(f\"Python {sys.version}\")\n",
    "# print(f\"Pandas {pd.__version__}\")\n",
    "# print(f\"Scikit-Learn {sk.__version__}\")\n",
    "# gpu = len(tf.config.list_physical_devices('GPU'))>0\n",
    "# print(\"GPU is\", \"available\" if gpu else \"NOT AVAILABLE\")"
   ]
  },
  {
   "cell_type": "code",
   "execution_count": null,
   "id": "66db05d0",
   "metadata": {},
   "outputs": [],
   "source": [
    "# What version of Python do you have?\n",
    "import sys\n",
    "\n",
    "import tensorflow.keras\n",
    "import pandas as pd\n",
    "import sklearn as sk\n",
    "import tensorflow as tf\n",
    "import platform\n",
    "\n",
    "print(f\"Python Platform: {platform.platform()}\")\n",
    "print(f\"Tensor Flow Version: {tf.__version__}\")\n",
    "print(f\"Keras Version: {tensorflow.keras.__version__}\")\n",
    "print()\n",
    "print(f\"Python {sys.version}\")\n",
    "print(f\"Pandas {pd.__version__}\")\n",
    "print(f\"Scikit-Learn {sk.__version__}\")\n",
    "gpu = len(tf.config.list_physical_devices('GPU'))>0\n",
    "print(\"GPU is\", \"available\" if gpu else \"NOT AVAILABLE\")"
   ]
  },
  {
   "cell_type": "code",
   "execution_count": null,
   "id": "5bbdc7ca",
   "metadata": {},
   "outputs": [],
   "source": [
    "import tensorflow as tf\n",
    "\n",
    "cifar = tf.keras.datasets.cifar100\n",
    "(x_train, y_train), (x_test, y_test) = cifar.load_data()\n",
    "model = tf.keras.applications.ResNet50(\n",
    "    include_top=True,\n",
    "    weights=None,\n",
    "    input_shape=(32, 32, 3),\n",
    "    classes=100,)\n",
    "\n",
    "loss_fn = tf.keras.losses.SparseCategoricalCrossentropy(from_logits=True)\n",
    "model.compile(optimizer=\"adam\", loss=loss_fn, metrics=[\"accuracy\"])\n",
    "model.fit(x_train, y_train, epochs=5, batch_size=64)"
   ]
  },
  {
   "cell_type": "code",
   "execution_count": null,
   "id": "3b9fc41d",
   "metadata": {},
   "outputs": [],
   "source": [
    "import os\n",
    "os.environ['TF_CPP_MIN_LOG_LEVEL'] = '2'\n",
    "import tensorflow as tf\n",
    "\n",
    "test_mat = tf.constant(4, shape=(2, 3), dtype=float)\n",
    "print(test_mat)"
   ]
  },
  {
   "cell_type": "code",
   "execution_count": null,
   "id": "431ef2d9",
   "metadata": {},
   "outputs": [],
   "source": [
    "import numpy as np\n",
    "import tensorflow as tf\n",
    "\n",
    "# tf.reset_default_graph()\n",
    "print(tf.__version__)"
   ]
  },
  {
   "cell_type": "code",
   "execution_count": null,
   "id": "bcc85936",
   "metadata": {},
   "outputs": [],
   "source": [
    "users = ['A', 'B', 'C', 'D']\n",
    "movies = ['Star wars', \"Shrek\", \"Incredibles\", \"Batman\", \"Her\"]\n",
    "features = [\"Action\", \"Sci-fi\", \"Comedy\", \"Cartoon\", \"Drama\"]\n",
    "\n",
    "num_users = len(users)\n",
    "num_movies = len(movies)\n",
    "num_features = len(features)"
   ]
  },
  {
   "cell_type": "code",
   "execution_count": null,
   "id": "e1671674",
   "metadata": {},
   "outputs": [],
   "source": [
    "users_movies = [[5, 0, 6, 0, 8], \n",
    "                [0, 8, 7, 9, 0], \n",
    "                [8, 6, 0, 0, 3], \n",
    "                [7, 9, 0, 5, 2]]\n",
    "\n",
    "movie_features = [[1, 1, 0, 0, 1], \n",
    "                  [0, 0, 1, 1, 0], \n",
    "                  [0, 0, 1, 1, 0], \n",
    "                  [1, 0, 0, 0, 1], \n",
    "                  [0, 0, 0, 0, 1]]"
   ]
  },
  {
   "cell_type": "code",
   "execution_count": null,
   "id": "daa4ef7e",
   "metadata": {},
   "outputs": [],
   "source": [
    "users_movies = tf.constant(users_movies, dtype=tf.float32)\n",
    "movie_features = tf.constant(movie_features, dtype=tf.float32)"
   ]
  },
  {
   "cell_type": "code",
   "execution_count": null,
   "id": "aee17db9",
   "metadata": {},
   "outputs": [],
   "source": [
    "wgtd_feature_matrices = [tf.expand_dims(tf.transpose(users_movies)[:, i], axis=1) * movie_features for i in range(num_users)]\n",
    "\n",
    "users_movies_features = tf.stack(wgtd_feature_matrices)"
   ]
  },
  {
   "cell_type": "code",
   "execution_count": null,
   "id": "44ec1dc9",
   "metadata": {},
   "outputs": [],
   "source": [
    "print(wgtd_feature_matrices)"
   ]
  },
  {
   "cell_type": "code",
   "execution_count": null,
   "id": "60f693c7",
   "metadata": {},
   "outputs": [],
   "source": [
    "print(users_movies_features)"
   ]
  },
  {
   "cell_type": "code",
   "execution_count": null,
   "id": "06f8375d",
   "metadata": {},
   "outputs": [],
   "source": [
    "users_movies_features_sums = tf.reduce_sum(users_movies_features, axis=1)\n",
    "users_movies_features_totals = tf.reduce_sum(users_movies_features_sums, axis=1)"
   ]
  },
  {
   "cell_type": "code",
   "execution_count": null,
   "id": "e620b498",
   "metadata": {},
   "outputs": [],
   "source": [
    "users_movies_features_sums"
   ]
  },
  {
   "cell_type": "code",
   "execution_count": null,
   "id": "e4295c62",
   "metadata": {},
   "outputs": [],
   "source": [
    "print(users_movies_features_totals)"
   ]
  },
  {
   "cell_type": "code",
   "execution_count": null,
   "id": "d5889ad0",
   "metadata": {},
   "outputs": [],
   "source": [
    "users_features = tf.stack([users_movies_features_sums[i, :]/users_movies_features_totals[i] for i in range(num_users)], axis=0)"
   ]
  },
  {
   "cell_type": "code",
   "execution_count": null,
   "id": "34f5caee",
   "metadata": {},
   "outputs": [],
   "source": [
    "users_features"
   ]
  },
  {
   "cell_type": "code",
   "execution_count": null,
   "id": "71f40d12",
   "metadata": {},
   "outputs": [],
   "source": [
    "def find_users_top_features(user_index):\n",
    "    features_index = tf.nn.top_k(users_features[user_index], num_features)[1]\n",
    "    return tf.gather_nd(features, tf.expand_dims(features_index, axis=1))"
   ]
  },
  {
   "cell_type": "code",
   "execution_count": null,
   "id": "e2941d12",
   "metadata": {},
   "outputs": [],
   "source": [
    "# tf.disable_v2_behavior()\n",
    "\n",
    "# with tf.compat.v1.Session() as sess: \n",
    "#     sess.run(tf.compat.v1.global_variables_initializer())\n",
    "#     users_topfeats = {}\n",
    "#     for i in range(num_users): \n",
    "#         top_feats = sess.run(find_users_top_features(i))\n",
    "#         users_topfeats[users[i]] = list[top_feats]"
   ]
  },
  {
   "cell_type": "code",
   "execution_count": null,
   "id": "67072e32",
   "metadata": {},
   "outputs": [],
   "source": [
    "users_ratings = [tf.map_fn(lambda x: tf.tensordot(users_features[i], x, axes=1), movie_features) for i in range(num_users)]\n",
    "\n",
    "all_user_ratings = tf.stack(users_ratings)"
   ]
  },
  {
   "cell_type": "code",
   "execution_count": null,
   "id": "011fcb70",
   "metadata": {},
   "outputs": [],
   "source": [
    "all_user_ratings"
   ]
  },
  {
   "cell_type": "code",
   "execution_count": null,
   "id": "889093b5",
   "metadata": {},
   "outputs": [],
   "source": [
    "all_user_ratings_new = tf.where(tf.equal(users_movies, tf.zeros_like(users_movies)), \n",
    "                        all_user_ratings,  \n",
    "                        -np.inf*tf.ones_like(tf.cast(users_movies, tf.float32)))\n",
    "\n",
    "all_user_ratings_new"
   ]
  },
  {
   "cell_type": "code",
   "execution_count": null,
   "id": "94d45c6c",
   "metadata": {},
   "outputs": [],
   "source": []
  }
 ],
 "metadata": {
  "kernelspec": {
   "display_name": "Python 3.10 (tensorflow)",
   "language": "python",
   "name": "tensorflow"
  },
  "language_info": {
   "codemirror_mode": {
    "name": "ipython",
    "version": 3
   },
   "file_extension": ".py",
   "mimetype": "text/x-python",
   "name": "python",
   "nbconvert_exporter": "python",
   "pygments_lexer": "ipython3",
   "version": "3.10.9"
  }
 },
 "nbformat": 4,
 "nbformat_minor": 5
}
